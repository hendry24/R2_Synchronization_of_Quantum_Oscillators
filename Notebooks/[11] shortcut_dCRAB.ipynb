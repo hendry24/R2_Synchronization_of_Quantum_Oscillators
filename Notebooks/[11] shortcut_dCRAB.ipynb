{
 "cells": [
  {
   "cell_type": "code",
   "execution_count": null,
   "metadata": {},
   "outputs": [],
   "source": [
    "import numpy as np\n",
    "import matplotlib.pyplot as plt\n",
    "import qutip as qt\n",
    "import pyqosc as qo"
   ]
  },
  {
   "cell_type": "code",
   "execution_count": 2,
   "metadata": {},
   "outputs": [
    {
     "name": "stdout",
     "output_type": "stream",
     "text": [
      "0.006853564167212994\n",
      "\n",
      "[1.         0.99995234 2.628034   0.40025914 2.82374254 0.01\n",
      " 0.01      ]\n"
     ]
    }
   ],
   "source": [
    "N = 2\n",
    "vdp = qo.vdp(N=N)\n",
    "vdp.shortcut_dCRAB(rho_0 = qt.coherent_dm(N, 1j),\n",
    "                   tau = 2,\n",
    "                   w_max = 1,\n",
    "                   n = 6,\n",
    "                   plot_optimized_driving = True,\n",
    "                   a_guess = [0.01 for i in range(6)])"
   ]
  }
 ],
 "metadata": {
  "kernelspec": {
   "display_name": ".venv",
   "language": "python",
   "name": "python3"
  },
  "language_info": {
   "codemirror_mode": {
    "name": "ipython",
    "version": 3
   },
   "file_extension": ".py",
   "mimetype": "text/x-python",
   "name": "python",
   "nbconvert_exporter": "python",
   "pygments_lexer": "ipython3",
   "version": "3.11.5"
  }
 },
 "nbformat": 4,
 "nbformat_minor": 2
}
