{
 "cells": [
  {
   "cell_type": "markdown",
   "metadata": {},
   "source": [
    "## <span style = \"color:#ff0000\">Caution</span>\n",
    "\n",
    "The trajectory output by ```vdp.adler``` is multiplied by $\\sqrt{2}$."
   ]
  },
  {
   "cell_type": "code",
   "execution_count": 1,
   "metadata": {},
   "outputs": [],
   "source": [
    "import numpy as np\n",
    "import matplotlib.pyplot as plt\n",
    "import qutip as qt\n",
    "import pyqosc as qo\n",
    "import scipy as sp"
   ]
  },
  {
   "cell_type": "code",
   "execution_count": null,
   "metadata": {},
   "outputs": [],
   "source": [
    "N = 40\n",
    "vdp = qo.vdp(N=N, omega = 1.5, gamma_1 = 1, gamma_2 = 0.1, Omega_1 = 0, Omega_2 = 1.92713)\n",
    "rho_0 = qt.coherent_dm(N, 100+100j)\n",
    "Ham, c_ops = vdp.dynamics()\n",
    "rho_ss = qt.steadystate(Ham, c_ops)\n",
    "print(qt.tracedist(rho_0, rho_ss))"
   ]
  },
  {
   "cell_type": "code",
   "execution_count": 2,
   "metadata": {},
   "outputs": [
    {
     "name": "stdout",
     "output_type": "stream",
     "text": [
      "29.5\n",
      "28.699999999999932\n",
      "== Shortcut finished == \n",
      "\n",
      "Result obtained with 23 iterations. \n",
      " ===== \n",
      "Specifications: \n",
      "   Trajectory function: linear_impens (premade, see pyqosc.linear_impens) \n",
      "   tau = 10 \n",
      " ===== \n",
      "Calculated metrics: \n",
      "   Final (b_tau - b_ss) = (-0.0008802552431844135+8.880823114676417e-06j)\n",
      "   Time to reach the steady state:\n",
      "      Without shortcut = 29.5 \n",
      "      With shortcut = 28.699999999999932 \n",
      "   Average total amplitude = 0.9244257726038271\n",
      "\n",
      "   Amplitude ratio = 0.9244257726038271\n",
      "   Fractional trace distance reduction = 0.7968734375265919 \n",
      "   Speed up ratio = 1.0278745644599327\n",
      "\n",
      "   Figure of merit (FoM) = 0.8860483575876713\n"
     ]
    }
   ],
   "source": [
    "N = 40\n",
    "vdp = qo.vdp(N=N, omega = 1.5, gamma_1 = 1, gamma_2 = 0.1)\n",
    "rho_0 = qt.coherent_dm(N, -1+1j)\n",
    "tau = 10\n",
    "\n",
    "Omega_1, Omega_2 = vdp.shortcut(rho_0, tau, trajectory_func = 0, err_tol_b = 1e-3, timepoints = 101, special = \"linear_impens\",\n",
    "                 maxiter = 100, report = True, plot_resulting_trajectory = False, save_to_osc = False, dy = 0)\n",
    "\n",
    "# t = np.linspace(0, tau, 101)\n",
    "# plt.plot(t, Omega_1, label = \"Omega_1\")\n",
    "# plt.plot(t, Omega_2, label = \"Omega_2\")\n",
    "# plt.legend(loc = \"best\")\n",
    "# plt.show()"
   ]
  },
  {
   "cell_type": "code",
   "execution_count": 3,
   "metadata": {},
   "outputs": [
    {
     "name": "stdout",
     "output_type": "stream",
     "text": [
      "29.5\n",
      "28.499999999999936\n",
      "== Shortcut finished == \n",
      "\n",
      "Result obtained with 26 iterations. \n",
      " ===== \n",
      "Specifications: \n",
      "   Trajectory function: hyperbolic_spiral (premade, see pyqosc.hyperbolic_spiral) \n",
      "   tau = 10 \n",
      " ===== \n",
      "Calculated metrics: \n",
      "   Final (b_tau - b_ss) = (-0.0001415904734839435-0.0008817012650566003j)\n",
      "   Time to reach the steady state:\n",
      "      Without shortcut = 29.5 \n",
      "      With shortcut = 28.499999999999936 \n",
      "   Average total amplitude = 0.6575704992011966\n",
      "\n",
      "   Amplitude ratio = 0.6575704992011966\n",
      "   Fractional trace distance reduction = 0.768479116499825 \n",
      "   Speed up ratio = 1.035087719298248\n",
      "\n",
      "   Figure of merit (FoM) = 1.209669985183984\n"
     ]
    }
   ],
   "source": [
    "N = 40\n",
    "vdp = qo.vdp(N=N, omega = 1.5, gamma_1 = 1, gamma_2 = 0.1)\n",
    "rho_0 = qt.coherent_dm(N, -1+1j)\n",
    "tau = 10\n",
    "\n",
    "Omega_1, Omega_2 = vdp.shortcut(rho_0, tau, trajectory_func = 0, err_tol_b = 1e-3, timepoints = 101, special = \"hyperbolic_spiral\",\n",
    "                 maxiter = 100, report = True, plot_resulting_trajectory = False, save_to_osc = False, swap_direction = True)\n",
    "\n",
    "# t = np.linspace(0, tau, 101)\n",
    "# plt.plot(t, Omega_1, label = \"Omega_1\")\n",
    "# plt.plot(t, Omega_2, label = \"Omega_2\")\n",
    "# plt.legend(loc = \"best\")\n",
    "# plt.show()"
   ]
  }
 ],
 "metadata": {
  "kernelspec": {
   "display_name": ".venv",
   "language": "python",
   "name": "python3"
  },
  "language_info": {
   "codemirror_mode": {
    "name": "ipython",
    "version": 3
   },
   "file_extension": ".py",
   "mimetype": "text/x-python",
   "name": "python",
   "nbconvert_exporter": "python",
   "pygments_lexer": "ipython3",
   "version": "3.11.5"
  }
 },
 "nbformat": 4,
 "nbformat_minor": 2
}
