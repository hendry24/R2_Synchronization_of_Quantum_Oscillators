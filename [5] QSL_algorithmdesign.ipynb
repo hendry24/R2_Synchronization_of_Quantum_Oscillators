{
 "cells": [
  {
   "cell_type": "code",
   "execution_count": 1,
   "metadata": {},
   "outputs": [],
   "source": [
    "import numpy as np\n",
    "import matplotlib.pyplot as plt\n",
    "import qutip as qt\n",
    "import pyqosc as qo\n",
    "import scipy as sp"
   ]
  },
  {
   "cell_type": "markdown",
   "metadata": {},
   "source": [
    "## **Mandelstam-Tamm Limit (No Dissipation)**"
   ]
  },
  {
   "cell_type": "code",
   "execution_count": 2,
   "metadata": {},
   "outputs": [],
   "source": [
    "def ss_qsl(qosc, rho_0, timelst, plot = False, overlap_with = None):\n",
    "    Ham, c_ops = qosc.dynamics()\n",
    "    \n",
    "    rho_ss = qt.steadystate(Ham, c_ops)\n",
    "    \n",
    "    rho_t = qt.mesolve(Ham, rho_0, timelst, c_ops).states\n",
    "    \n",
    "    l = len(timelst)\n",
    "    dt = timelst[1]-timelst[0]\n",
    "    mean_stdev_t = [np.nan]\n",
    "    s = 0\n",
    "    stdev0 = np.sqrt(qt.variance(Ham, rho_t[0]))\n",
    "    for i in range(1,l):\n",
    "        stdev = np.sqrt(qt.variance(Ham, rho_t[i]))\n",
    "        mean_stdev_t.append((dt/(timelst[i]-timelst[0])) * (stdev0/2 + s + stdev/2))    # Usual trapz formula, divided by the total time\n",
    "        s += stdev\n",
    "    \n",
    "    bures_angle_t = [qt.bures_angle(rho_t[i], rho_ss) for i in range(l)]\n",
    "        \n",
    "    qsl_t = [0]\n",
    "    for i in range(1,l):\n",
    "        qsl_t.append(bures_angle_t[i] / mean_stdev_t[i])\n",
    "    \n",
    "    if plot:\n",
    "        if overlap_with:\n",
    "            ax = overlap_with\n",
    "        else:\n",
    "            fig, ax = plt.subplots(1, figsize = (5, 4), constrained_layout = True)\n",
    "            ax.set_ylabel(r\"$\\tau_\\mathrm{QSL}$\")\n",
    "            ax.set_xlabel(r\"$t$\")\n",
    "            ax.axvline(qosc.omega_0, ls = \"--\", c = \"k\", alpha = 0.4, label = r\"$2\\pi/\\omega_0$\")\n",
    "            ax.legend(loc = \"upper right\")\n",
    "        ax.plot(timelst[1:], qsl_t[1:])"
   ]
  },
  {
   "cell_type": "code",
   "execution_count": 16,
   "metadata": {},
   "outputs": [
    {
     "data": {
      "image/png": "[encoded data removed]",
      "text/plain": [
       "<Figure size 500x400 with 1 Axes>"
      ]
     },
     "metadata": {},
     "output_type": "display_data"
    }
   ],
   "source": [
    "N = 50\n",
    "\n",
    "vdp = qo.vdp(N, omega = 17, Omega = 1, gamma_1 = 1, gamma_2 = 0.1)\n",
    "\n",
    "rho_0 = qt.coherent(N, 100)\n",
    "\n",
    "timelst = np.linspace(0, 10, 101)\n",
    "\n",
    "ss_qsl(vdp, rho_0, timelst, True)\n",
    "plt.show()"
   ]
  },
  {
   "cell_type": "markdown",
   "metadata": {},
   "source": [
    "## **Funo QSL (With Dissipation**)"
   ]
  },
  {
   "cell_type": "code",
   "execution_count": 78,
   "metadata": {},
   "outputs": [],
   "source": [
    "def ss_qsl_funo(qosc, rho_0, init_tau = 1, fsolve_xtol = 1e-3, \n",
    "                fsolve_maxfev = int(1e6), mesolve_timepoints = 101, quad_limit = 101,\n",
    "                mode = \"iterative\"):\n",
    "    \n",
    "    N = qosc.N\n",
    "    Ham, c_ops = qosc.dynamics()\n",
    "    rho_ss = qt.steadystate(Ham, c_ops)\n",
    "    \n",
    "    d_tr = ((rho_0-rho_ss).dag()*(rho_0-rho_ss)).sqrtm().tr() * 0.5\n",
    "    \n",
    "    def funo(tau):\n",
    "        \n",
    "        def rho(t):\n",
    "            return qt.mesolve(Ham, rho_0, np.linspace(0, t, mesolve_timepoints), c_ops, options = qt.Options(nsteps=int(1e9))).states[-1]\n",
    "                       \n",
    "        def D(t):\n",
    "            s = 0\n",
    "            rho_t = rho(t)\n",
    "            for c_op in c_ops:\n",
    "                s += c_op * rho_t * c_op.dag() - 0.5 * qt.commutator(c_op.dag()*c_op, rho_t, kind = \"anti\")\n",
    "            return s, rho_t\n",
    "        \n",
    "        def H_D(t):\n",
    "            D_t, rho_t = D(t)\n",
    "            rho_eigvals, rho_eigstates = rho_t.eigenstates()\n",
    "            out = 0\n",
    "            for m in range(N):\n",
    "                pm = rho_eigvals[m]\n",
    "                bm = rho_eigstates[m]\n",
    "                for n in range(N):\n",
    "                    pn = rho_eigvals[n]\n",
    "                    if pn==pm:\n",
    "                        continue\n",
    "                    bn = rho_eigstates[n]\n",
    "                    out += D_t.matrix_element(bm, bn) / (pn-pm) * bm * bn.dag()\n",
    "            out *= 1j\n",
    "            return out, rho_t\n",
    "            \n",
    "        def stdev_sum(t):\n",
    "            H_D_t, rho_t = H_D(t)\n",
    "            return np.sqrt(qt.variance(Ham, rho_t)) + np.sqrt(qt.variance(H_D_t, rho_t))\n",
    "        \n",
    "        #####\n",
    "        \n",
    "        def W(t):\n",
    "            rho_t = rho(t)\n",
    "            rho_eigvals, rho_eigstates = rho_t.eigenstates()\n",
    "            \n",
    "            Wmn = np.empty(shape=(len(c_ops),N,N))\n",
    "            # Assuming [gamma] is independent of [omega], [W_{mn}^{omega,alpha}] and [W_{nm}^{-omega,alpha}]\n",
    "            # are identical.\n",
    "            \n",
    "            for i in range(len(c_ops)):\n",
    "                \n",
    "                omega_is_0 = False\n",
    "                if qt.commutator(c_ops[i],Ham)==0:\n",
    "                    omega_is_0 = True\n",
    "                \n",
    "                for m in range(N):\n",
    "                    bm = rho_eigstates[m]\n",
    "                    \n",
    "                    for n in range(N):\n",
    "                        if m==n and omega_is_0:\n",
    "                            Wmn[i][m][n] = 0\n",
    "                        \n",
    "                        bn = rho_eigstates[n]\n",
    "                        \n",
    "                        Wmn[i][m][n] = np.abs(bm.overlap(c_ops[i]*bn))**2\n",
    "                        \n",
    "            return rho_eigvals, Wmn\n",
    "        \n",
    "        def sigma_and_A(t):\n",
    "            p, Wmn = W(t)\n",
    "            sigma = 0\n",
    "            A = 0\n",
    "            for i in range(len(c_ops)):\n",
    "                for m in range(N):\n",
    "                    for n in range(N):\n",
    "                        if not(p[m]==0 or p[n]==0):\n",
    "                            sigma += Wmn[i][m][n] * p[n] * np.log(p[n]/p[m])\n",
    "                        A += (p[n]+p[m]) * Wmn[i][m][n]\n",
    "            return sigma, A\n",
    "                \n",
    "        #####\n",
    "        \n",
    "        def time_quad(func):\n",
    "            return sp.integrate.quad(func, 0, tau, limit = quad_limit)[0]\n",
    "        \n",
    "        timelst = np.linspace(0, tau, quad_limit).flatten()\n",
    "        sigma_lst = np.empty(shape=(quad_limit,))\n",
    "        A_lst = np.empty(shape=(quad_limit,))\n",
    "        sigma_lst[0] = 0\n",
    "        A_lst[0] = 0\n",
    "        for i in range(1, quad_limit):\n",
    "            sigma_lst[i], A_lst[i] = sigma_and_A(float(timelst[i])) # Need to convert to float or qutip mesolve won't work.\n",
    "        \n",
    "        def time_trapz(x, y):\n",
    "            return sp.integrate.trapz(y=y, x=x)\n",
    "         \n",
    "        return time_quad(stdev_sum) + np.sqrt(0.5 * time_trapz(timelst, sigma_lst) * time_trapz(timelst, A_lst)) - d_tr\n",
    "        \n",
    "    return sp.optimize.fsolve(funo, init_tau, xtol = fsolve_xtol, maxfev = fsolve_maxfev)[0]\n"
   ]
  },
  {
   "cell_type": "code",
   "execution_count": 79,
   "metadata": {},
   "outputs": [
    {
     "name": "stdout",
     "output_type": "stream",
     "text": [
      "The calculated quantum speed limit is 0.2630914247913295\n"
     ]
    },
    {
     "data": {
      "text/plain": [
       "0.2630914247913295"
      ]
     },
     "execution_count": 79,
     "metadata": {},
     "output_type": "execute_result"
    }
   ],
   "source": [
    "N = 2\n",
    "qosc = qo.vdp(N)\n",
    "rho_0 = qt.basis(N,0) * qt.basis(N,0).dag()\n",
    "ss_qsl_funo(qosc, rho_0, init_tau = 0.3)"
   ]
  },
  {
   "cell_type": "code",
   "execution_count": 20,
   "metadata": {},
   "outputs": [
    {
     "name": "stdout",
     "output_type": "stream",
     "text": [
      "The calculated quantum speed limit is 0.2617324692234691\n"
     ]
    },
    {
     "data": {
      "text/plain": [
       "0.2617324692234691"
      ]
     },
     "execution_count": 20,
     "metadata": {},
     "output_type": "execute_result"
    }
   ],
   "source": [
    "N = 2\n",
    "qosc = qo.vdp(N)\n",
    "rho_0 = qt.basis(N,0) * qt.basis(N,0).dag()\n",
    "ss_qsl_funo(qosc, rho_0, init_tau = 3.0)"
   ]
  }
 ],
 "metadata": {
  "kernelspec": {
   "display_name": ".venv",
   "language": "python",
   "name": "python3"
  },
  "language_info": {
   "codemirror_mode": {
    "name": "ipython",
    "version": 3
   },
   "file_extension": ".py",
   "mimetype": "text/x-python",
   "name": "python",
   "nbconvert_exporter": "python",
   "pygments_lexer": "ipython3",
   "version": "3.11.7"
  }
 },
 "nbformat": 4,
 "nbformat_minor": 2
}
